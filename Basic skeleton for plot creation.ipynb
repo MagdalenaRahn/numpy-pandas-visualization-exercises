{
 "cells": [
  {
   "cell_type": "markdown",
   "id": "266c99fd",
   "metadata": {},
   "source": [
    "##  Basic skeleton for plot creation\n",
    "(from Shawn Brown, Noether cohort, Codeup)"
   ]
  },
  {
   "cell_type": "code",
   "execution_count": null,
   "id": "2117459b",
   "metadata": {},
   "outputs": [],
   "source": [
    "\n",
    "\n",
    "#configuration for higher resolution screens\n",
    "#%config InLineBackend.figure_format = \n",
    "\n",
    "#set a figure size\n",
    "plt.figure(figsize = (0, 0))\n",
    "\n",
    "#if you need a subplot\n",
    "#plt.subplot(000)\n",
    "#need this on top of each different subplot\n",
    "\n",
    "#generate x values\n",
    "x = []\n",
    "\n",
    "#calculate the y value\n",
    "y = []\n",
    "\n",
    "#plot the data\n",
    "##can set alpha values for levels of transparency\n",
    "plt.plot(x, y)\n",
    "#simply add more lines to add more plots\n",
    "\n",
    "#customize the chart\n",
    "plt.title('')\n",
    "plt.xlabel('')\n",
    "plt.ylabel('')\n",
    "\n",
    "#one way to get x and y limits\n",
    "plt.xlim(0, 10)\n",
    "plt.ylim(0, 10)\n",
    "#alternate way to set x and y limits\n",
    "plt.axis([0,10, 0, 10])\n",
    "\n",
    "#grid lines\n",
    "plt.grid(True, ls='--')\n",
    "\n",
    "#sets legend\n",
    "plt.legend()\n",
    "\n",
    "#sets padding around subplots\n",
    "plt.tight_layout()"
   ]
  }
 ],
 "metadata": {
  "kernelspec": {
   "display_name": "Python 3 (ipykernel)",
   "language": "python",
   "name": "python3"
  },
  "language_info": {
   "codemirror_mode": {
    "name": "ipython",
    "version": 3
   },
   "file_extension": ".py",
   "mimetype": "text/x-python",
   "name": "python",
   "nbconvert_exporter": "python",
   "pygments_lexer": "ipython3",
   "version": "3.9.13"
  }
 },
 "nbformat": 4,
 "nbformat_minor": 5
}
