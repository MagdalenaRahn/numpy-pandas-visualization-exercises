{
 "cells": [
  {
   "cell_type": "markdown",
   "id": "dd0b7fcb",
   "metadata": {},
   "source": [
    "### Make a new Jupyter notebook named big_o_notation.ipynb\n",
    "\n",
    "    Title your chart \"Big O Notation\"\n",
    "    Label your x axis \"Elements\"\n",
    "    Label your y axis \"Operations\"\n",
    "    Label your curves or make a legend for the curves\n",
    "    Use LaTex notation where possible\n",
    "\n",
    "Curves to graph :\n",
    "\n",
    "- y=0n+1, and label the curve \"O(1)\"\n",
    "- y=log(n)\n",
    "and label the curve \"O(log n)\"\n",
    "- y=n\n",
    "and label the curve \"O(n)\"\n",
    "- y=n∗log(n)\n",
    "and label it \"O(n log n)\"\n",
    "- y=n^2\n",
    "and label it \"O(n^2)\"\n",
    "- y=2^n\n",
    "and label it \"O(2^n)\"\n",
    "- y=n!\n",
    "and label it \"O(n!)\"\n",
    "- y=n^n\n",
    "and label it \"O(n^n)\""
   ]
  },
  {
   "cell_type": "code",
   "execution_count": 1,
   "id": "a5cfd6af",
   "metadata": {},
   "outputs": [],
   "source": [
    "import matplotlib.pyplot as plt\n",
    "import pandas as pd\n",
    "import numpy as np\n",
    "from random import randint\n",
    "import math as m\n",
    "\n",
    "%matplotlib inline"
   ]
  },
  {
   "cell_type": "code",
   "execution_count": 3,
   "id": "44bc84ef",
   "metadata": {},
   "outputs": [],
   "source": [
    "n = np.array(range(1,11))"
   ]
  },
  {
   "cell_type": "code",
   "execution_count": 6,
   "id": "94821ce2",
   "metadata": {},
   "outputs": [
    {
     "data": {
      "text/plain": [
       "array([1, 1, 1, 1, 1, 1, 1, 1, 1, 1])"
      ]
     },
     "execution_count": 6,
     "metadata": {},
     "output_type": "execute_result"
    }
   ],
   "source": [
    "# y = 0n+1 and label the curve \"O(1)\"\n",
    "y = 0 * n + 1 \n",
    "y0"
   ]
  },
  {
   "cell_type": "code",
   "execution_count": 11,
   "id": "7122b44e",
   "metadata": {},
   "outputs": [
    {
     "data": {
      "text/plain": [
       "array([0.        , 0.69314718, 1.09861229, 1.38629436, 1.60943791,\n",
       "       1.79175947, 1.94591015, 2.07944154, 2.19722458, 2.30258509])"
      ]
     },
     "execution_count": 11,
     "metadata": {},
     "output_type": "execute_result"
    }
   ],
   "source": [
    "# y = log(n), and label the curve \"O(log n)\"\n",
    "\n",
    "y = np.log(n)\n",
    "y"
   ]
  },
  {
   "cell_type": "code",
   "execution_count": 13,
   "id": "467ab1b4",
   "metadata": {},
   "outputs": [],
   "source": [
    "# y = n, and label the curve \"O(n)\"\n",
    "\n",
    "y = n"
   ]
  },
  {
   "cell_type": "code",
   "execution_count": null,
   "id": "90474f27",
   "metadata": {},
   "outputs": [],
   "source": []
  },
  {
   "cell_type": "code",
   "execution_count": null,
   "id": "4f54ba77",
   "metadata": {},
   "outputs": [],
   "source": []
  }
 ],
 "metadata": {
  "celltoolbar": "Raw Cell Format",
  "kernelspec": {
   "display_name": "Python 3 (ipykernel)",
   "language": "python",
   "name": "python3"
  },
  "language_info": {
   "codemirror_mode": {
    "name": "ipython",
    "version": 3
   },
   "file_extension": ".py",
   "mimetype": "text/x-python",
   "name": "python",
   "nbconvert_exporter": "python",
   "pygments_lexer": "ipython3",
   "version": "3.9.13"
  }
 },
 "nbformat": 4,
 "nbformat_minor": 5
}
