{
 "cells": [
  {
   "cell_type": "markdown",
   "id": "dd0b7fcb",
   "metadata": {},
   "source": [
    "### Make a new Jupyter notebook named big_o_notation.ipynb\n",
    "\n",
    "    Title your chart \"Big O Notation\"\n",
    "    Label your x axis \"Elements\"\n",
    "    Label your y axis \"Operations\"\n",
    "    Label your curves or make a legend for the curves\n",
    "    Use LaTex notation where possible\n",
    "\n",
    "Curves to graph :\n",
    "\n",
    "- y=0n+1, and label the curve \"O(1)\"\n",
    "- y=log(n)\n",
    "and label the curve \"O(log n)\"\n",
    "- y=n\n",
    "and label the curve \"O(n)\"\n",
    "- y=n∗log(n)\n",
    "and label it \"O(n log n)\"\n",
    "- y=$n^2$\n",
    "and label it \"O(n^2)\"\n",
    "- y=$2^n$\n",
    "and label it \"O(2^n)\"\n",
    "- y=n!\n",
    "and label it \"O(n!)\"\n",
    "- y=$n^n$\n",
    "and label it \"O(n^n)\""
   ]
  },
  {
   "cell_type": "code",
   "execution_count": 1,
   "id": "a5cfd6af",
   "metadata": {},
   "outputs": [],
   "source": [
    "import matplotlib.pyplot as plt\n",
    "import pandas as pd\n",
    "import numpy as np\n",
    "from random import randint\n",
    "import math as m\n",
    "\n",
    "%matplotlib inline"
   ]
  },
  {
   "cell_type": "markdown",
   "id": "97051787",
   "metadata": {},
   "source": [
    "# IN-CLASS \n",
    "\n",
    "#### Generate values for x   \n",
    "\n",
    "\"\"\"   \n",
    "y1 = [0*n + 1 for n in x]  \n",
    "y2 = [m.log(n) for n in x]  \n",
    "y3 = [n for n in x]  \n",
    "y4 = [ n * m.log(n) for n in x]  \n",
    "y5 = [n ** 2 for n in x]  \n",
    "y6 = [2 ** n for n in x]  \n",
    "y7 = [m.factorial(n) for n in x]  \n",
    "y8 = [n ** n for n in x]  \n",
    "\"\"\"\n",
    "\n",
    "### Plots\n",
    "plt.plot(x, y1, label = 'O(1)')  \n",
    "plt.plot(x, y2, label = 'O...)  \n",
    "plt.plot(x, y3, label = 'O(log(n))')  \n",
    "...  \n",
    "plt.plot(x, y6, label = 'O($2^{n}$)')\n"
   ]
  },
  {
   "cell_type": "code",
   "execution_count": null,
   "id": "ae62df62",
   "metadata": {},
   "outputs": [],
   "source": []
  },
  {
   "cell_type": "markdown",
   "id": "ac9bcf5c",
   "metadata": {},
   "source": [
    "# MINE"
   ]
  },
  {
   "cell_type": "code",
   "execution_count": 76,
   "id": "44bc84ef",
   "metadata": {},
   "outputs": [],
   "source": [
    "# MINE\n",
    "\n",
    "n = np.array(range(1,4))"
   ]
  },
  {
   "cell_type": "code",
   "execution_count": null,
   "id": "b94462df",
   "metadata": {},
   "outputs": [],
   "source": []
  },
  {
   "cell_type": "code",
   "execution_count": 77,
   "id": "94821ce2",
   "metadata": {},
   "outputs": [
    {
     "data": {
      "text/plain": [
       "array([1, 1, 1])"
      ]
     },
     "execution_count": 77,
     "metadata": {},
     "output_type": "execute_result"
    }
   ],
   "source": [
    "# y = 0n+1 and label the curve \"O(1)\"\n",
    "y0 = 0 * n + 1 \n",
    "y0"
   ]
  },
  {
   "cell_type": "code",
   "execution_count": 78,
   "id": "7122b44e",
   "metadata": {},
   "outputs": [
    {
     "data": {
      "text/plain": [
       "array([0.        , 0.69314718, 1.09861229])"
      ]
     },
     "execution_count": 78,
     "metadata": {},
     "output_type": "execute_result"
    }
   ],
   "source": [
    "# y = log(n), and label the curve \"O(log n)\"\n",
    "\n",
    "ylogn = np.log(n)\n",
    "ylogn"
   ]
  },
  {
   "cell_type": "code",
   "execution_count": 79,
   "id": "467ab1b4",
   "metadata": {},
   "outputs": [],
   "source": [
    "# y = n, and label the curve \"O(n)\"\n",
    "\n",
    "y = n"
   ]
  },
  {
   "cell_type": "code",
   "execution_count": 80,
   "id": "90474f27",
   "metadata": {},
   "outputs": [
    {
     "data": {
      "text/plain": [
       "array([0.        , 1.38629436, 3.29583687])"
      ]
     },
     "execution_count": 80,
     "metadata": {},
     "output_type": "execute_result"
    }
   ],
   "source": [
    "# y=n∗log(n) and label it \"O(n log n)\"\n",
    "\n",
    "ylognn = n * np.log(n)\n",
    "ylognn"
   ]
  },
  {
   "cell_type": "code",
   "execution_count": 81,
   "id": "4f54ba77",
   "metadata": {},
   "outputs": [
    {
     "data": {
      "text/plain": [
       "array([1, 4, 9])"
      ]
     },
     "execution_count": 81,
     "metadata": {},
     "output_type": "execute_result"
    }
   ],
   "source": [
    "# y=n^2 and label it \"O(n^2)\"\n",
    "\n",
    "y0n2 = n ** 2\n",
    "y0n2"
   ]
  },
  {
   "cell_type": "code",
   "execution_count": 82,
   "id": "751b3673",
   "metadata": {},
   "outputs": [
    {
     "data": {
      "text/plain": [
       "array([2, 4, 8])"
      ]
     },
     "execution_count": 82,
     "metadata": {},
     "output_type": "execute_result"
    }
   ],
   "source": [
    "# y=2^n and label it \"O(2^n)\"\n",
    "\n",
    "y2n = 2 ** n\n",
    "y2n"
   ]
  },
  {
   "cell_type": "code",
   "execution_count": 83,
   "id": "b30cacf3",
   "metadata": {},
   "outputs": [
    {
     "name": "stdout",
     "output_type": "stream",
     "text": [
      "1\n",
      "2\n",
      "6\n"
     ]
    },
    {
     "data": {
      "text/plain": [
       "[1, 2, 6]"
      ]
     },
     "execution_count": 83,
     "metadata": {},
     "output_type": "execute_result"
    }
   ],
   "source": [
    "# y = n! and label it \"O(n!)\"\n",
    "\n",
    "yfact = []\n",
    "\n",
    "# initialise empty list and do loops thru array 'n' to then append list with factorial of 'n'.\n",
    "# turns array into factorial list\n",
    "\n",
    "for j in n:\n",
    "    m.factorial(j)\n",
    "    yfact.append( m.factorial(j))\n",
    "    print(m.factorial(j))\n",
    "    \n",
    "yfact"
   ]
  },
  {
   "cell_type": "code",
   "execution_count": 84,
   "id": "0585906a",
   "metadata": {},
   "outputs": [
    {
     "name": "stdout",
     "output_type": "stream",
     "text": [
      "1\n",
      "2\n",
      "6\n"
     ]
    }
   ],
   "source": [
    "# how to turn array into factorial :\n",
    "\n",
    "for j in n:\n",
    "    print(m.factorial(j))"
   ]
  },
  {
   "cell_type": "code",
   "execution_count": 85,
   "id": "aecc9370",
   "metadata": {},
   "outputs": [
    {
     "data": {
      "text/plain": [
       "[1, 2, 6]"
      ]
     },
     "execution_count": 85,
     "metadata": {},
     "output_type": "execute_result"
    }
   ],
   "source": [
    "yfa = [m.factorial(j) for j in n]\n",
    "yfa \n",
    "\n",
    "# this is the same as the for loop ('yfact').\n",
    "\n",
    "# [mathematical operation for item in array]"
   ]
  },
  {
   "cell_type": "code",
   "execution_count": 86,
   "id": "c8a474fb",
   "metadata": {},
   "outputs": [
    {
     "data": {
      "text/plain": [
       "array([ 1,  4, 27])"
      ]
     },
     "execution_count": 86,
     "metadata": {},
     "output_type": "execute_result"
    }
   ],
   "source": [
    "# y = n ^ n and label it \"O(n^n)\"\n",
    "\n",
    "ynn = n ** n\n",
    "ynn"
   ]
  },
  {
   "cell_type": "code",
   "execution_count": null,
   "id": "53b83f29",
   "metadata": {},
   "outputs": [],
   "source": []
  },
  {
   "cell_type": "code",
   "execution_count": 156,
   "id": "559f070f",
   "metadata": {},
   "outputs": [
    {
     "data": {
      "image/png": "[encoded data removed]",
      "text/plain": [
       "<Figure size 1000x600 with 1 Axes>"
      ]
     },
     "metadata": {},
     "output_type": "display_data"
    }
   ],
   "source": [
    "plt.figure(figsize = (10,6))\n",
    "plt.title('Big O Notation')\n",
    "plt.xlabel('Elements')\n",
    "plt.ylabel('Operations')\n",
    "\n",
    "(\n",
    "    plt.plot(n, y0, c = 'b', ls = \":\"),\n",
    "    plt.plot(n, ylogn, c = 'cyan'),\n",
    "    plt.scatter(n, y, c = 'pink', s = 100),\n",
    "    plt.plot(n, ylognn, c = 'orangered', ls = \"--\"),\n",
    "    plt.plot(n, y0n2, c = 'mediumspringgreen'),\n",
    "    plt.scatter(n, y2n, c = 'darkorange', s = 80),\n",
    "    plt.plot(n, yfa, c = 'y'),\n",
    "    plt.scatter(n, ynn, c = 'chartreuse', s = 50 )\n",
    ")\n",
    "\n",
    "(\n",
    "    plt.legend(['$O(1)$',\n",
    "                '$O(log n)$', \n",
    "               '$O(n)$', \n",
    "               '$O(n log n)$', \n",
    "               '$O(n^2)$',  \n",
    "               '$O(2^n)$', \n",
    "               '$O(n!)$',\n",
    "               '$O(n^n)$'])\n",
    ")\n",
    "\n",
    "plt.annotate(text = 'Valeur aberrante ', xy = (3,26), xytext = (2.5, 21), arrowprops = {'width': 2})\n",
    "\n",
    "plt.grid(True, ls = '--')\n",
    "\n",
    "plt.show()"
   ]
  },
  {
   "cell_type": "code",
   "execution_count": null,
   "id": "2254703b",
   "metadata": {},
   "outputs": [],
   "source": []
  }
 ],
 "metadata": {
  "celltoolbar": "Raw Cell Format",
  "kernelspec": {
   "display_name": "Python 3 (ipykernel)",
   "language": "python",
   "name": "python3"
  },
  "language_info": {
   "codemirror_mode": {
    "name": "ipython",
    "version": 3
   },
   "file_extension": ".py",
   "mimetype": "text/x-python",
   "name": "python",
   "nbconvert_exporter": "python",
   "pygments_lexer": "ipython3",
   "version": "3.9.13"
  }
 },
 "nbformat": 4,
 "nbformat_minor": 5
}
